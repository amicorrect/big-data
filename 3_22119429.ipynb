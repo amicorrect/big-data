{
 "cells": [
  {
   "cell_type": "markdown",
   "metadata": {
    "deletable": true,
    "editable": true
   },
   "source": [
    "# Practical 3 - Python Basics II: Strings and Functions\n",
    "\n",
    "The aim of this practical is to get you familar with some more advanced concepts of the Python programming language. These problems are designed to get you familar with functions, file input/output, string manipulation, lists, tuples and dictionaries.\n",
    "\n",
    "There are 2 sections, each containing 4 problems. You are encouraged to attempt as many as possible, but you are only required to demonstrate **one problem from each section** for marking. You need to explain to your tutor how you have solved the problem and answer any questions they may ask.\n",
    "\n",
    "## Contents\n",
    "1. Section A\n",
    "    - [Problem A1](#Problem-A1:-Calculating-List-Properties): Calculating List Properties\n",
    "    - [Problem A2](#Problem-A2:-Calculating-Vector-Products): Calculating Vector Products\n",
    "    - [Problem A3](#Problem-A3:-Parsing-and-Counting-Votes): Parsing and Counting Votes\n",
    "    - [Problem A4](#Problem-A4:-Selective-Capitalisation): Selective Capitalisation\n",
    "2. Section B\n",
    "    - [Problem B1](#Problem-B1:-File-Input-and-Output): File Input and Output\n",
    "    - [Problem B2](#Problem-B2:-Complex-Dictionaries): Complex Dictionaries\n",
    "    - [Problem B3](#Problem-B3:-Searching-Files): Searching Files\n",
    "    - [Problem B4](#Problem-B4:-File-Word-Count): File Word Count"
   ]
  },
  {
   "cell_type": "markdown",
   "metadata": {
    "deletable": true,
    "editable": true
   },
   "source": [
    "## Section A\n",
    "### Problem A1: Calculating List Properties\n",
    "\n",
    "Write a program to calculate the sum, maximum and minimum values of a list. You need to define your own functions for calculating the above values instead of using the built-in Python functions. A skeleton of your program is provided below and you need to complete the empty functions."
   ]
  },
  {
   "cell_type": "code",
   "execution_count": 5,
   "metadata": {
    "deletable": true,
    "editable": true
   },
   "outputs": [],
   "source": [
    "# function definitions\n",
    "def mysum(values_list):\n",
    "    # your code goes here to calculate and return the sum of values in list values_list\n",
    "    sum=0\n",
    "    for x in values_list:\n",
    "        sum+=x\n",
    "    return sum \n",
    "\n",
    "def mymax(values_list):\n",
    "    # your code does here to calculate and return the maximum value in list values_list\n",
    "    a=0\n",
    "    for i in values_list:\n",
    "        if i>a:\n",
    "            a=i\n",
    "    return a\n",
    "\n",
    "def mymin(values_list):\n",
    "    # your code does here to calculate and return the minimum value in list values_list\n",
    "    a=values_list[0]\n",
    "    for i in values_list:\n",
    "        if i<a:\n",
    "            a=i\n",
    "    return a\n",
    "    \n"
   ]
  },
  {
   "cell_type": "markdown",
   "metadata": {
    "deletable": true,
    "editable": true
   },
   "source": [
    "The input list, `values_list`,  is defined in the cell below for you, along with a print function to print the return values of the functions you have defined above.\n",
    "\n",
    "Some hints for the function definitions:\n",
    "\n",
    "- `mysum`:\n",
    "    - loop over the elements of `values_list` and add each value to a variable that is recording the total.\n",
    "    - return the total.\n",
    "- `mymax`:\n",
    "    - loop over the elements of `values_list`.\n",
    "    - use a variable to record the largest number the loop has encountered.\n",
    "    - before looping over `values_list`, you may wish to set the variable to be the first element of `values_list`, i.e. `values_list[0]`.\n",
    "    - return the variable once the loop has finished.\n",
    "- `mymin`:\n",
    "    - use the same strategy as `mymax` except record the lowest value instead of the largest.\n",
    "\n",
    "You do not need to complete any code in the cells below. You only need to run them and verify they produce the correct values. Remember that if you changed the code in the cells above containing the function definitions, you will need to re-run the definition cell before running the cells below.\n",
    "\n",
    "The expected output for the cell below is:\n",
    "```\n",
    "Sum: 45 Max: 9 Min: 0\n",
    "```"
   ]
  },
  {
   "cell_type": "code",
   "execution_count": 7,
   "metadata": {
    "collapsed": false,
    "deletable": true,
    "editable": true,
    "jupyter": {
     "outputs_hidden": false
    }
   },
   "outputs": [
    {
     "name": "stdout",
     "output_type": "stream",
     "text": [
      "Sum: 45 Max: 9 Min: 0\n"
     ]
    }
   ],
   "source": [
    "x = range(10)  # x = [0, 1, 2, 3, 4, 5, 6, 7, 8, 9]\n",
    "print(\"Sum:\", mysum(x), \"Max:\", mymax(x), \"Min:\", mymin(x))"
   ]
  },
  {
   "cell_type": "markdown",
   "metadata": {
    "deletable": true,
    "editable": true
   },
   "source": [
    "The expected output of the cell below is:\n",
    "```\n",
    "Sum: 25 Max: 9 Min: 1\n",
    "```"
   ]
  },
  {
   "cell_type": "code",
   "execution_count": 9,
   "metadata": {
    "collapsed": false,
    "deletable": true,
    "editable": true,
    "jupyter": {
     "outputs_hidden": false
    }
   },
   "outputs": [
    {
     "name": "stdout",
     "output_type": "stream",
     "text": [
      "Sum: 25 Max: 9 Min: 1\n"
     ]
    }
   ],
   "source": [
    "x = range(1,10,2)  # x = [1, 3, 5, 7, 9]\n",
    "print(\"Sum:\", mysum(x), \"Max:\", mymax(x), \"Min:\", mymin(x))"
   ]
  },
  {
   "cell_type": "markdown",
   "metadata": {
    "deletable": true,
    "editable": true
   },
   "source": [
    "The expected output of the cell below is:\n",
    "```\n",
    "Sum: 1023.0 Max: 512.0 Min: 1.0\n",
    "```"
   ]
  },
  {
   "cell_type": "code",
   "execution_count": 11,
   "metadata": {
    "collapsed": false,
    "deletable": true,
    "editable": true,
    "jupyter": {
     "outputs_hidden": false
    }
   },
   "outputs": [
    {
     "name": "stdout",
     "output_type": "stream",
     "text": [
      "Sum: 1023.0 Max: 512.0 Min: 1.0\n"
     ]
    }
   ],
   "source": [
    "x = [2.0**i for i in range(10)]  # x = [1.0, 2.0, 4.0, 8.0, ..., 512.0]\n",
    "print(\"Sum:\", mysum(x), \"Max:\", mymax(x), \"Min:\", mymin(x))"
   ]
  },
  {
   "cell_type": "markdown",
   "metadata": {
    "deletable": true,
    "editable": true
   },
   "source": [
    "### Problem A2: Calculating Vector Products\n",
    "\n",
    "Write a program to calculate the normal of a vector, as well as the inner product and distance between two vectors. A vector is a mathematical term that can be represented as a list of numbers.\n",
    "\n",
    "Let $x=[x_1, x_2, ..., x_n]$, $y = [y_1, y_2, ..., y_n]$ be two vectors of size $n$. The **normal** of vector $x$ is given by:\n",
    "\n",
    "$$normal(x) = \\sqrt{\\sum_{i=1}^{n} x^{2}_{i}} = \\sqrt{x_{1}^{2} + x_{2}^{2} + \\ldots + x_{n}^{2}}$$\n",
    "\n",
    "The **inner product** between vectors $x$ and $y$ is given by:\n",
    "\n",
    "$$innerprod(x, y) = \\sum_{i=1}^{n} x_i y_i = x_1 y_1 + x_2 y_2 + \\ldots + x_n y_n$$\n",
    "\n",
    "The **distance** between vectors $x$ and $y$ is given by:\n",
    "\n",
    "$$dist(x, y) = \\sqrt{norm(x)^2 + norm(y)^2 - 2 \\times innerprod(x, y)}$$\n",
    "\n",
    "A skeleton of your program is provided below and you need to complete the empty functions. (Hint: square root can be calculated by using math library sqrt function)"
   ]
  },
  {
   "cell_type": "code",
   "execution_count": 13,
   "metadata": {
    "collapsed": false,
    "deletable": true,
    "editable": true,
    "jupyter": {
     "outputs_hidden": false
    }
   },
   "outputs": [],
   "source": [
    "from math import sqrt  # importing the sqrt function for use\n",
    "\n",
    "def normal(vector):\n",
    "    # your code goes here to calculate and return the normal of the vector\n",
    "    sum1=0\n",
    "    for x in vector:\n",
    "        sum1=x**2+sum1\n",
    "    return sqrt(sum1 )\n",
    "\n",
    "\n",
    "def innerproduct(vector_x, vector_y):\n",
    "    # your code goes here to calculate and return the inner product of vector_x and vector_y\n",
    "    # you may assume that vector_x and vector_y have the same number of values\n",
    "\n",
    "    sum1=0\n",
    "    len1=len(vector_x)\n",
    "    for i in range(len1):\n",
    "            sum1+=vector_x[i]*vector_y[i]\n",
    "    return sum1\n",
    "    \n",
    "def distance(vector_x, vector_y):\n",
    "    # your code goes here to calculate the return the distance between vectors vector_x and vector_y\n",
    "    # you may assume that vector_x and vector_y have the same number of values\n",
    "\n",
    "    squared_distance = normal(vector_x) **2 + normal(vector_y)**2 - 2 * innerproduct(vector_x, vector_y) \n",
    "    return sqrt(squared_distance)  # Return the square root of the squared distance for the Euclidean distance\n"
   ]
  },
  {
   "cell_type": "markdown",
   "metadata": {
    "deletable": true,
    "editable": true
   },
   "source": [
    "The input vectors, `vector_x` and `vector_y`, are defined as lists in the cell below for you, along with a print function to print the return values of the functions you have defined above. The expected output for this cell is\n",
    "```\n",
    "norm(vector_x): 5.4772 norm(vector_y): 5.4772\n",
    "```"
   ]
  },
  {
   "cell_type": "code",
   "execution_count": 15,
   "metadata": {
    "deletable": true,
    "editable": true
   },
   "outputs": [
    {
     "name": "stdout",
     "output_type": "stream",
     "text": [
      "normal(vector_x): 5.477225575051661 normal(vector_y): 5.477225575051661\n"
     ]
    }
   ],
   "source": [
    "vector_x = range(5)\n",
    "vector_y = range(4, -1, -1)\n",
    "print(\"normal(vector_x):\", normal(vector_x), \"normal(vector_y):\", normal(vector_y))"
   ]
  },
  {
   "cell_type": "markdown",
   "metadata": {
    "deletable": true,
    "editable": true
   },
   "source": [
    "The expected output for the cell below is:\n",
    "```\n",
    "innerproduct(vector_x, vector_y): 10\n",
    "```"
   ]
  },
  {
   "cell_type": "code",
   "execution_count": 17,
   "metadata": {
    "deletable": true,
    "editable": true
   },
   "outputs": [
    {
     "name": "stdout",
     "output_type": "stream",
     "text": [
      "innerproduct(vector_x, vector_y): 10\n"
     ]
    }
   ],
   "source": [
    "print(\"innerproduct(vector_x, vector_y):\", innerproduct(vector_x, vector_y))"
   ]
  },
  {
   "cell_type": "markdown",
   "metadata": {
    "deletable": true,
    "editable": true
   },
   "source": [
    "The expected output for the cell below is:\n",
    "```\n",
    "distance(vector_x, vector_y): 6.3246\n",
    "```"
   ]
  },
  {
   "cell_type": "code",
   "execution_count": 19,
   "metadata": {
    "deletable": true,
    "editable": true
   },
   "outputs": [
    {
     "name": "stdout",
     "output_type": "stream",
     "text": [
      "distance(vector_x, vector_y): 6.324555320336759\n"
     ]
    }
   ],
   "source": [
    "print(\"distance(vector_x, vector_y):\", distance(vector_x, vector_y))"
   ]
  },
  {
   "cell_type": "markdown",
   "metadata": {
    "deletable": true,
    "editable": true
   },
   "source": [
    "### Problem A3: Parsing and Counting Votes\n",
    "\n",
    "Write a function that will count the votes from an input string. The votes are represented by 'Y's and 'N's separated by commas ','. Your function should handle both uppercase and lowercase 'Y's and 'N's. Moreover, there might be extra spaces in the front and/or end of each vote. Your function should display a message for the voting results which must contain the result of the vote (either accepted or rejected), the number of yes votes, the number of no votes, and the total number of votes. The vote is accepted only if the number of yes votes exceeds the number of no votes. The skeleton program is provided below and you need to complete the function `count_votes`"
   ]
  },
  {
   "cell_type": "code",
   "execution_count": 35,
   "metadata": {
    "deletable": true,
    "editable": true
   },
   "outputs": [],
   "source": [
    "def count_votes(votes):\n",
    "    votes = votes.upper().split(',')\n",
    "    cleaned_votes = [vote.strip() for vote in votes]\n",
    "    yes = cleaned_votes.count(\"Y\")\n",
    "    no = cleaned_votes.count(\"N\")\n",
    "    total = yes + no\n",
    "    if yes > no:\n",
    "        result=\"Vote accepted\"\n",
    "    else:\n",
    "        result=\"Vote rejected\"\n",
    "    print(f\"{result}: {total} votes in total, {yes} accepted and {no} rejected.\")"
   ]
  },
  {
   "cell_type": "markdown",
   "metadata": {
    "deletable": true,
    "editable": true
   },
   "source": [
    "The input votes are defined below for you as the string `votes`. Notice how there are both uppercase and lowercase votes, as well as a variable number of spaces between the votes that your `count_votes` function will need to handle correctly. A call to the `count_votes` function is also provided.\n",
    "\n",
    "_Hint:_ one way to complete the `count_votes` function is to use the `str.split(sep)` method, passing in `','` as the _sep_ parameter. Then you may loop over the elements of the result and determine if each element contains a 'Y' or 'y' to count it as a yes vote, or 'N' or 'n' for no votes.\n",
    "\n",
    "The cell below should produce something similar the the following output:\n",
    "```\n",
    "Vote rejected: 20 votes in total, 7 accepted and 13 rejected.\n",
    "```\n",
    "Depending on how you wrote your solution, your output may be slightly different, however the numerical results should be the same as well as the vote result (either accepted or rejected)."
   ]
  },
  {
   "cell_type": "code",
   "execution_count": 37,
   "metadata": {
    "deletable": true,
    "editable": true
   },
   "outputs": [
    {
     "name": "stdout",
     "output_type": "stream",
     "text": [
      "Vote rejected: 20 votes in total, 7 accepted and 13 rejected.\n"
     ]
    }
   ],
   "source": [
    "votes = \"N , Y, Y,N,n , N , N , N ,n ,y, n,N,Y, y,Y,N , N , n ,y, N\"\n",
    "count_votes(votes)"
   ]
  },
  {
   "cell_type": "markdown",
   "metadata": {
    "deletable": true,
    "editable": true
   },
   "source": [
    "The expected output for the cell below should be similar to:\n",
    "```\n",
    "Vote accepted: 20 votes in total, 11 accepted and 9 rejected.\n",
    "```"
   ]
  },
  {
   "cell_type": "code",
   "execution_count": 39,
   "metadata": {
    "deletable": true,
    "editable": true
   },
   "outputs": [
    {
     "name": "stdout",
     "output_type": "stream",
     "text": [
      "Vote accepted: 20 votes in total, 11 accepted and 9 rejected.\n"
     ]
    }
   ],
   "source": [
    "votes = \" y,n,Y ,y,y ,n, N, Y,N , N,y , n, Y,Y,y, N ,y, n, n , Y \"\n",
    "count_votes(votes)"
   ]
  },
  {
   "cell_type": "markdown",
   "metadata": {
    "deletable": true,
    "editable": true
   },
   "source": [
    "### Problem A4: Selective Capitalisation\n",
    "\n",
    "Write a program to capitalise each word in a phrase unless the word is an escaping word like a, an, the, am, is, are, and, of, in, on, with, from, to. For example, if given the input message \"I am a good player\", your program should return \"I am a Good Player\" at output. A skeleton program is provided in the following cell and you need to complete the empty function for word capitalisation. \n",
    "\n",
    "_Hint: you can create a list of the escape words given above and decide if a new word is an escape word by searching the list_"
   ]
  },
  {
   "cell_type": "code",
   "execution_count": 42,
   "metadata": {
    "deletable": true,
    "editable": true
   },
   "outputs": [],
   "source": [
    "def capitalise(phrase):\n",
    "    escaping=[\"a\",\"an\",\"the\",\"am\",\"is\",\"are\",\"and\",\"of\",\"in\",\"on\",\"with\",\"from\",\"to\"]\n",
    "    a=phrase.split()\n",
    "    for i in range(len(a)) :\n",
    "        if a[i] not in escaping:\n",
    "            a[i]=a[i].upper()\n",
    "    return \" \".join(a)"
   ]
  },
  {
   "cell_type": "markdown",
   "metadata": {
    "deletable": true,
    "editable": true
   },
   "source": [
    "Some calls to the `capitalise` function you have defined above are provided for you below. The expected output of the cell below is:\n",
    "```\n",
    "I am an Educator and a Researcher\n",
    "Big Data is the Future of Information Technology\n",
    "He Wants to Have Breakfast with Her in the Hotel\n",
    "```"
   ]
  },
  {
   "cell_type": "code",
   "execution_count": 45,
   "metadata": {
    "deletable": true,
    "editable": true
   },
   "outputs": [
    {
     "data": {
      "text/plain": [
       "'HE WANTS to HAVE BREAKFAST with HER in the HOTEL'"
      ]
     },
     "execution_count": 45,
     "metadata": {},
     "output_type": "execute_result"
    }
   ],
   "source": [
    "capitalise(\"I am an educator and a researcher\")\n",
    "capitalise(\"big data is the future of information technology\")\n",
    "capitalise(\"He wants to have breakfast with her in the hotel\")"
   ]
  },
  {
   "cell_type": "code",
   "execution_count": 47,
   "metadata": {},
   "outputs": [
    {
     "data": {
      "text/plain": [
       "'BIG DATA is the FUTURE of INFORMATION TECHNOLOGY'"
      ]
     },
     "execution_count": 47,
     "metadata": {},
     "output_type": "execute_result"
    }
   ],
   "source": [
    "capitalise(\"big data is the future of information technology\")"
   ]
  },
  {
   "cell_type": "code",
   "execution_count": 49,
   "metadata": {},
   "outputs": [
    {
     "data": {
      "text/plain": [
       "'I am an EDUCATOR and a RESEARCHER'"
      ]
     },
     "execution_count": 49,
     "metadata": {},
     "output_type": "execute_result"
    }
   ],
   "source": [
    "capitalise(\"I am an educator and a researcher\")"
   ]
  },
  {
   "cell_type": "markdown",
   "metadata": {},
   "source": [
    "## Section B\n",
    "### Problem B1: File Input and Output\n",
    "\n",
    "In this problem you are to you will be given a text file (scemunits.txt) that saves the information about some units offered in SCEM. The text file contains three columns separated by ',', that correspond to the unit ID, name and the course it belongs to.  The first line of the text file contains the header information that can be skipped for file processing. You must download the text file from vUWS and upload it to the Jupyter Notebook server in the same manner you upload the notebook .ipynb files.\n",
    "\n",
    "Write a program that reads the text file and saves all units from the MICT course in a separate text file.  A skeleton program is provided below and you need to complete the `read_write_file()` function.  \n",
    "\n",
    "_Hint: you can use a for loop to read the lines from infile and check whether that line corresponds to a record for an MICT unit. Save that line to outfile if this is the case and discard the line otherwise. You can use `readline()` to skip the first line of infile._"
   ]
  },
  {
   "cell_type": "markdown",
   "metadata": {},
   "source": [
    "Some suggested functions to look into to help you are:\n",
    "- `open( file_to_open )`\n",
    "- `readline()`\n",
    "- `write( thing_to_write )`\n",
    "\n",
    "An example of reading and writing files in Python can be found here: https://docs.python.org/3/tutorial/inputoutput.html\n",
    "\n",
    "The basic flow of the `read_write_file` function would involve:\n",
    "1. Open the `infile` for reading, and open the `outfile` for writing.\n",
    "2. Discard the first line\n",
    "3. Loop through the remaining lines\n",
    "    - If 'MICT' in line\n",
    "        - Write to `outfile`\n",
    "    - Otherwise\n",
    "        - Ignore the line\n",
    "4. Close both `infile` and `outfile`."
   ]
  },
  {
   "cell_type": "code",
   "execution_count": 69,
   "metadata": {},
   "outputs": [],
   "source": [
    "def read_write_file(infile, outfile):\n",
    "    # Your code goes here to read the content of infile, pick up records of MICT units, \n",
    "    # and save the results to outfile\n",
    "    infile=open(\"scemunits.txt\",\"r\")\n",
    "    outfile=open(\"mictunits.txt\",\"w\")\n",
    "    infile.readline()\n",
    "    for line in infile:\n",
    "        unitid,unitname,course=line.strip().split(\",\")\n",
    "        course = course.strip()\n",
    "        if course==\"MICT\":\n",
    "            outfile.write(line)\n",
    "    infile.close()\n",
    "    outfile.close()\n",
    "\n",
    "read_write_file(\"scemunits.txt\", \"mictunits.txt\")"
   ]
  },
  {
   "cell_type": "markdown",
   "metadata": {},
   "source": [
    "### Problem B2: Complex Dictionaries\n",
    "\n",
    "This exercise is similar to the above one except that the unit information is provided in a dictionary. You will write a function that accepts the unit list in a dictionary variable, and a keyword string that saves the course information. The function should display all units in a course that matches the keyword.   "
   ]
  },
  {
   "cell_type": "markdown",
   "metadata": {},
   "source": [
    "The `units` variable defined below is a Python dictionary object. It is an object that maps a `key` to a `value`. For instance:\n",
    "- `key1` -> `value1`\n",
    "- `key2` -> `value2`\n",
    "- `key3` -> `value3`\n",
    "\n",
    "If you wanted to use `value1` you would use `key1` to access it. For example `units['key1']`.\n",
    "\n",
    "A dictionary object has a function called `keys()` (which can be accessed as `units.keys()`). It will let you loop through each `key` that is stored in the dictionary. It may then be used to access the value. You should use this built in `keys()` function to loop through and test the value of each key to see if it is equal to the `keyword`. "
   ]
  },
  {
   "cell_type": "code",
   "execution_count": 89,
   "metadata": {},
   "outputs": [
    {
     "name": "stdout",
     "output_type": "stream",
     "text": [
      "('301046', 'Big Data')\n",
      "('301044', 'Data Science')\n"
     ]
    }
   ],
   "source": [
    "units = {\n",
    "    ('301046','Big Data'): 'MICT',\n",
    "    ('300581', 'Programming Techniques'): 'BICT',\n",
    "    ('300144', 'OOA'): 'BICT',\n",
    "    ('300103', 'Data Structures'): 'BCS',\n",
    "    ('300147', 'OOP'):'BCS',\n",
    "    ('300569', 'Computer Security'): 'BIS',\n",
    "    ('301044', 'Data Science'): 'MICT',\n",
    "    ('300582', 'TWA'): 'BICT'\n",
    "}\n",
    "for key in units.keys():\n",
    "    if units[key]==\"MICT\":\n",
    "        print(key)"
   ]
  },
  {
   "cell_type": "code",
   "execution_count": 101,
   "metadata": {},
   "outputs": [
    {
     "name": "stdout",
     "output_type": "stream",
     "text": [
      "301046 Big Data\n",
      "301044 Data Science\n",
      "300103 Data Structures\n",
      "300147 OOP\n"
     ]
    }
   ],
   "source": [
    "def display_units(units, keyword):\n",
    "    # Your code goes here to pick up all records from the list of units that belong\n",
    "    # to the course specified by the keyword and display the result on screen\n",
    "    for key in units.keys():\n",
    "        if units[key]==keyword:\n",
    "            unitid,unitname=key\n",
    "            print(unitid,unitname)\n",
    "\n",
    "units = {\n",
    "    ('301046','Big Data'): 'MICT',\n",
    "    ('300581', 'Programming Techniques'): 'BICT',\n",
    "    ('300144', 'OOA'): 'BICT',\n",
    "    ('300103', 'Data Structures'): 'BCS',\n",
    "    ('300147', 'OOP'):'BCS',\n",
    "    ('300569', 'Computer Security'): 'BIS',\n",
    "    ('301044', 'Data Science'): 'MICT',\n",
    "    ('300582', 'TWA'): 'BICT'\n",
    "}\n",
    "# the function below should display all MICT units\n",
    "# 301046 Big Data\n",
    "# 301044 Data Science\n",
    "display_units(units, 'MICT')\n",
    "# the function below should display all BCS units\n",
    "# 300103 Data Structure\n",
    "# 300147 OOP\n",
    "display_units(units, 'BCS')"
   ]
  },
  {
   "cell_type": "markdown",
   "metadata": {},
   "source": [
    "### Problem B3: Searching Files\n",
    "\n",
    "Grep is an important utility program in the Linux operating system that shows all lines in a file that contain certain words or expressions.  In this program, you will write a simple grep program. You need to define a grep function in the following, where `filename` is the name of input file, and `expr` is the expression to be searched for each line of the input file. The defined grep function can then be used to search all occurrences of given expression in a file. Note that example test file _bigdata.txt_ is available on vUWS."
   ]
  },
  {
   "cell_type": "code",
   "execution_count": 159,
   "metadata": {},
   "outputs": [
    {
     "name": "stdout",
     "output_type": "stream",
     "text": [
      "Big data usually includes data sets with sizes beyond the ability of commonly used software tools to capture,\n",
      "curate, manage, and process data within a tolerable elapsed time. Big data \"size\" is a constantly moving\n",
      "target, as of 2012 ranging from a few dozen terabytes to many petabytes of data. Big data is a set of\n",
      "definition as follows: \"Big data is high volume, high velocity, and/or high variety information assets that\n",
      "Big data uses inductive statistics and concepts from nonlinear system identification to infer laws\n",
      "Big data can also be defined as \"Big data is a large volume unstructured data which cannot be handled by\n",
      "Big data can be described by the following characteristics: Volume ï¿½ The quantity of data that is generated is\n",
      "Big data analytics consists of 6 Cs in the integrated industry 4.0 and Cyber Physical Systems environment. 6C\n",
      "Big data requires exceptional technologies to efficiently process large quantities of data within tolerable\n",
      "Bus wrapped with SAP Big data parked outside IDF13.\n",
      "Big data has increased the demand of information management specialists in that Software AG, Oracle\n",
      "different big data programs spread across six departments.Big data analysis played a large role in Barack\n",
      "Big data analysis was, in parts, responsible for the BJP and its allies to win a highly successful Indian\n",
      "benefit of big data for manufacturing. Big data provides an infrastructure for transparency in manufacturing\n",
      "Big data has been called a \"fad\" in scientific research and its use was even made fun of as an absurd practice\n",
      "Big data analysis is often shallow compared to analysis of smaller data sets. In many big data projects, there\n",
      "Big data is a buzzword and a \"vague term\", but at the same time an \"obsession\" with entrepreneurs,\n",
      "consultants, scientists and the media. Big data showcases such as Google Flu Trends failed to deliver good\n",
      "election predictions solely based on Twitter were more often off than on target. Big data often poses the same\n",
      "technology went public with the launch of a company called Ayasdi.\n",
      "ICT4D) suggests that big data technology can make important contributions but also present unique challenges\n",
      "the later utilization stage. Finally, with ubiquitous connectivity offered by cloud computing technology, the\n",
      "well as queries from more than half a million third-party sellers. The core technology that keeps Amazon\n",
      "form at cloud interface by providing the raw definitions and real time examples within the technology.\n",
      "experiments (i.e. process a big amount of scientific data; although not with big data technology), the\n"
     ]
    }
   ],
   "source": [
    "def grep(filename, expr): \n",
    "    # your code goes here to complete the grep functionality\n",
    "    infile=open(filename, \"r\")\n",
    "    infile.readline()\n",
    "    for line in infile:\n",
    "        if expr in line:\n",
    "            print(line.strip())\n",
    "    infile.close()\n",
    "# display all lines from bigdata.txt containing Big data\n",
    "grep(\"bigdata.txt\", \"Big data\")\n",
    "# display all lines from bigdata.txt containing technology\n",
    "grep(\"bigdata.txt\", \"technology\")"
   ]
  },
  {
   "cell_type": "markdown",
   "metadata": {},
   "source": [
    "The basic workflow of this problem is much the same as the ones above. You will need to open the `filename` and discard the first line, and then loop through the rest. To test if the `expr` term is in the current line, use the `if <expr> in <line>` type syntax. If this is `True` then you want to `print()` the line.  "
   ]
  },
  {
   "cell_type": "markdown",
   "metadata": {},
   "source": [
    "### Problem B4: File Word Count\n",
    "\n",
    "For this exercise, you will complete a program that displays top 10 most frequently occurring words in an input file. We will use the same test file _bigdata.txt_ as used in a previous problem. A skeleton program is provided in the following cell, where the sorting and displaying functionality has already been implemented. You need to complete the `create_wordcount_dict` function which creates a dictionary of key value pairs given input file name passed to the function. Each entry in the dictionary has a key, which is a word that appeared in the input file, and a value, which is the number of occurrences of that word in the input file. Your program should return this dictionary. Note that any return value of your function other than dictionary will cause the rest part of the program to fail. \n",
    "\n",
    "#### Hints\n",
    "You can create an empty dictionary with either of the following syntax: `d = dict()` or `d = {}`.\n",
    "\n",
    "Adding new key-value pairs to an existing dictionary uses the same syntax as updating an existing entry: `d['newKey'] = value`. However, if you wish to access an existing entry, you need to make sure the key already exists in the dictionary. e.g. `d['newKey'] = d['newKey'] + 1` will fail if `newKey` is not already in the dictionary as the right-hand-side of the assignment is attempting to _access_ a non-existant entry.\n",
    "\n",
    "You can check if a key already exists in a dictionary by using the `in` operator. e.g.\n",
    "\n",
    "```python\n",
    "d = {'building': 'EB', 'floor': '1', 'room': 48}\n",
    "if 'floor' in d:\n",
    "    print(\"The floor is\", d['floor'])\n",
    "```\n",
    "\n"
   ]
  },
  {
   "cell_type": "code",
   "execution_count": 191,
   "metadata": {
    "tags": []
   },
   "outputs": [
    {
     "name": "stdout",
     "output_type": "stream",
     "text": [
      "the 359\n",
      "data 236\n",
      "of 226\n",
      "and 219\n",
      "to 180\n",
      "in 144\n",
      "big 107\n",
      "a 102\n",
      "is 83\n",
      "as 71\n"
     ]
    }
   ],
   "source": [
    "import string\n",
    "def create_wordcount_dict(filename):\n",
    "    # Your code goes here to create and return a dictionary\n",
    "    with open(filename,\"r\") as infile:\n",
    "        infile.readline()\n",
    "        d=dict()\n",
    "        for line in infile:\n",
    "            for word in line.strip().split():\n",
    "                word = word.strip(string.punctuation).lower()\n",
    "                d[word]=d.get(word,0)+1\n",
    "    return d\n",
    "\n",
    "wordcount = create_wordcount_dict(\"bigdata.txt\")\n",
    "\n",
    "# sort the entries in the dictionary by their values in descending order i.e. value in the key-value pair\n",
    "# note that the return value is a list of keys only which is assigned to sorted_keys_list \n",
    "sorted_keys_list = sorted(wordcount, key=wordcount.get, reverse=True)\n",
    "\n",
    "# print the top 10 entries in the sorted list\n",
    "for key in sorted_keys_list[:10]:\n",
    "    print(key, wordcount[key])"
   ]
  }
 ],
 "metadata": {
  "kernelspec": {
   "display_name": "Python [conda env:base] *",
   "language": "python",
   "name": "conda-base-py"
  },
  "language_info": {
   "codemirror_mode": {
    "name": "ipython",
    "version": 3
   },
   "file_extension": ".py",
   "mimetype": "text/x-python",
   "name": "python",
   "nbconvert_exporter": "python",
   "pygments_lexer": "ipython3",
   "version": "3.12.7"
  }
 },
 "nbformat": 4,
 "nbformat_minor": 4
}

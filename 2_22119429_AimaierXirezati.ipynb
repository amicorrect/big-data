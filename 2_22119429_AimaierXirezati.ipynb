{
 "cells": [
  {
   "cell_type": "markdown",
   "metadata": {},
   "source": [
    "# Practical 2 - Python Basics I\n",
    "\n",
    "The aim of this practical is to get you familar to the Python programming language. These problems are designed to get you familar with data type, operators and work flow structures.\n",
    "\n",
    "There are 5 problems, each with a number of parts. You are encouraged to attempt all problems, but you are only required to present one for marking at the start of the practical class next week. All parts of the problem you present must have been attempted. During marking, you may need to explain to your tutor how you have solved the problem and answer any questions they may ask.\n",
    "\n",
    "## Contents\n",
    "\n",
    "- [Problem 1: Fahrenheit to Celsius Converter](#Problem-1:-Fahrenheit-to-Celsius-Converter) (example only)\n",
    "- [Problem 2: Interest Calculator](#Problem-2:-Interest-Calculator)\n",
    "- [Problem 3: Student Course Record](#Problem-3:-Student-Course-Record)\n",
    "- [Problem 4: Largest Number](#Problem-4:-Largest-Number)\n",
    "- [Problem 5: Bonus Calculator](#Problem-5:-Bonus-Calculator)"
   ]
  },
  {
   "cell_type": "markdown",
   "metadata": {},
   "source": [
    "## Problem 1: Fahrenheit to Celsius Converter\n",
    "\n",
    "### Important Notice\n",
    "This problem and all parts within have already been completed for you as an example. Note that there are several ways to solve these problems and the solutions below are only one of them. As these problems have example solutions provided, you may not submit solutions to the problems below for marking - you must attempt one of the other provided notebooks.\n",
    "\n",
    "Please feel free to experiment with the solutions given below to familiarise yourself with Python.\n",
    "\n",
    "### Part A\n",
    "\n",
    "Refering to the example discussed in the lecture notes, create a program that is capable of converting a temperature in Fahrenheit to Celsius. The formula that you will need to implement is:\n",
    "\n",
    "$$Celsius = \\frac{5}{9}\\times\\left(Fahrenheit - 32\\right)$$\n",
    "\n",
    "An example of the program output is included below. \n",
    "\n",
    "```Enter a temperature in degrees: 50\n",
    "50.0 degrees fahrenheit is 10.0 degrees celsius\n",
    "```\n",
    "\n",
    "Use the cell below to do this. You may create more cells if you wish.\n",
    "\n",
    "_Hint:_ use the [`input([prompt])`](https://docs.python.org/3/library/functions.html#input) function to ask the user to enter the temperature in degrees, then use the returned value to output the converted temperature."
   ]
  },
  {
   "cell_type": "code",
   "execution_count": null,
   "metadata": {
    "tags": []
   },
   "outputs": [],
   "source": [
    "fahrenheit = int(input(\"Enter a temperature in degrees Fahrenheit:\"))\n",
    "celcius = (5/9)*(fahrenheit - 32)\n",
    "print(fahrenheit, \"degrees Fahrenheit is\", celcius, \"degrees Celcius\")"
   ]
  },
  {
   "cell_type": "markdown",
   "metadata": {},
   "source": [
    "### Part B\n",
    "\n",
    "Extend the above program so that it can perform either Celsius to Fahrenheit or Fahrenheit to Celsius conversion based on user choice. Degree Celsius can be converted to Fahrenheit based on the formula below:\n",
    "\n",
    "$$Frahenheit = \\frac{9}{5}\\times Celsius + 32$$\n",
    "\n",
    "We include three examples of the program below:\n",
    "#### Example 1\n",
    "```\n",
    "Choose an option below (1 for Celsius to Fahrenheit conversion, 2 for Fahrenheit to Celsius conversion): 1\n",
    "Enter a temperature in degree Celsius:  10\n",
    "10.0 degrees Celsius is equal to 50.0 degrees Fahrenheit \n",
    "```\n",
    "#### Example 2\n",
    "```\n",
    "Choose an option below (1 for Celsius to Fahrenheit conversion, 2 for Fahrenheit to Celsius conversion): 2\n",
    "Enter a temperature in degree Fahrenheit:  50\n",
    "50.0 degrees Fahrenheit is equal to 10.0 degrees Celsius \n",
    "\n",
    "```\n",
    "#### Example 3\n",
    "```\n",
    "Choose an option below (1 for Celsius to Fahrenheit conversion, 2 for Fahrenheit to Celsius conversion): 3\n",
    "Invalid input. Bye!\n",
    "\n",
    "```\n",
    "\n",
    "Use the cell below to do this.\n",
    "\n",
    "_Hint:_ You will need to use a selection control structure (see the lecture slides) to determine which conversion the user wishes to perform."
   ]
  },
  {
   "cell_type": "code",
   "execution_count": null,
   "metadata": {
    "tags": []
   },
   "outputs": [],
   "source": [
    "choice = int(input(\"Choose an option (1 for C to F; 2 for F to C):\"))\n",
    "\n",
    "if choice == 1:\n",
    "    # the user chose C to F\n",
    "    celcius = int(input(\"Enter a temperature in degrees Celcius:\"))\n",
    "    fahrenheit = (9/5)*celcius + 32\n",
    "    print(celcius, \"degrees Celcius is\", fahrenheit, \"degrees Fahrenheit\")\n",
    "elif choice == 2:\n",
    "    # the user chose F to C\n",
    "    fahrenheit = int(input(\"Enter a temperature in degrees Fahrenheit:\"))\n",
    "    celcius = (5/9)*(fahrenheit - 32)\n",
    "    print(fahrenheit, \"degrees Fahrenheit is\", celcius, \"degrees Celcius\")\n",
    "else:\n",
    "    # the user chose an unavailable option\n",
    "    print(\"Your choice is invalid.\")"
   ]
  },
  {
   "cell_type": "markdown",
   "metadata": {},
   "source": [
    "### Part C\n",
    "\n",
    "In this program, instead of prompting for user input, you will create a conversion table that shows the corresponding degree Fahrenheit values for degree Celsius values. Your table should start from 0 degree Celsius up to 40 degree Celsius with a step of 5. \n",
    "\n",
    "Example of the program output is shown below. \n",
    "```\n",
    "C         F\n",
    "0         32.0\n",
    "5         41.0\n",
    "10        50.0\n",
    "15        59.0\n",
    "20        68.0\n",
    "25        77.0\n",
    "30        86.0\n",
    "35        95.0\n",
    "40        104.0\n",
    "```\n",
    "Use the cell below to write your program. You **must not** hardcode this output into your program.\n",
    "\n",
    "_Hint:_ You will need to use an iteration control structure to loop over a list of values and convert each to Fahrenheit. Remember that lists of numbers can be generated with the [`range(start, stop[, step])`](https://docs.python.org/3/library/functions.html#func-range) function."
   ]
  },
  {
   "cell_type": "code",
   "execution_count": null,
   "metadata": {
    "tags": []
   },
   "outputs": [],
   "source": [
    "# print the header part first. Note that \\t means the \"tab character\"\n",
    "print(\"C\", \"\\t\", \"F\")\n",
    "\n",
    "# loop over a range of celcius values starting from 0 and ending at 45 increasing by 5\n",
    "# note that the stop value is 45 and not 40 as the stop value is NOT included\n",
    "for celcius in range(0, 45, 5):\n",
    "    fahrenheit = (9/5)*celcius + 32\n",
    "    print(celcius, \"\\t\", fahrenheit)"
   ]
  },
  {
   "cell_type": "markdown",
   "metadata": {},
   "source": [
    "### Part D\n",
    "\n",
    "Modifying the solution to Part C, design a program that allows the user to enter the start value, the end value and the step for the above program."
   ]
  },
  {
   "cell_type": "code",
   "execution_count": null,
   "metadata": {
    "tags": []
   },
   "outputs": [],
   "source": [
    "start = int(input(\"Input the starting temperature in Celcius:\"))\n",
    "stop = int(input(\"Input the ending temperature (exclusive) in Celcius:\"))\n",
    "step = int(input(\"Input the increment (step) value:\"))\n",
    "\n",
    "print(\"C\", \"\\t\", \"F\")\n",
    "for celcius in range(start, stop, step):\n",
    "    fahrenheit = (9/5)*celcius + 32\n",
    "    print(celcius, \"\\t\", fahrenheit)"
   ]
  },
  {
   "cell_type": "markdown",
   "metadata": {},
   "source": [
    "## Problem 2: Interest Calculator\n",
    "### Part A\n",
    "\n",
    "In this exercise, you will write a program for calculating the interest accrued on a loan given the interest rate. There are two different schemes for interest payment. One is the simple interest scheme, which is calculated according to the formula below:\n",
    "\n",
    "$$y = x \\times \\left(1+\\frac{r}{100}t\\right)$$\n",
    "\n",
    "where\n",
    "- _y_ is the repayment amount\n",
    "- _x_ is the loan amount\n",
    "- _r_ is the interest rate as a percentage (i.e. a decimal between 0 and 1)\n",
    "- _t_ is the term of the loan in number of years\n",
    "\n",
    "The other is the compound interest scheme calculated according to the following formula:\n",
    "\n",
    "$$y = x\\times\\left(1+\\frac{r}{100}\\right)^t$$\n",
    "\n",
    "An example of the expected programs output is shown below:\n",
    "```\n",
    "Enter the loan amount: 300000 \n",
    "Enter the annual interest rate in percentage: 5 \n",
    "Enter the loan term in number of years: 20 \n",
    "Your repay amount is 600000.0 in 20.0 years of time with simple interest.\n",
    "Your repay amount is 798989.311543 in 20.0 years of time with compound interest.\n",
    "```\n",
    "\n",
    "Use the cell below to write your solution. You may create more cells if you wish. You are not required to round your output to the nearest cent."
   ]
  },
  {
   "cell_type": "code",
   "execution_count": 7,
   "metadata": {},
   "outputs": [
    {
     "name": "stdin",
     "output_type": "stream",
     "text": [
      "Enter the loan amount: 300000\n",
      "Enter the annual interest rate in percentage: 5\n",
      "Enter the loan term in number of years: 20\n"
     ]
    },
    {
     "name": "stdout",
     "output_type": "stream",
     "text": [
      "Your repay amount is 600000.0 in 20 years of time with simple interest.\n",
      "Your repay amount is 795989.3115433267 in 20 years of time with with compound interest.\n"
     ]
    }
   ],
   "source": [
    "loan_amount=int(input(\"Enter the loan amount:\"))\n",
    "interest_rate=int(input(\"Enter the annual interest rate in percentage:\"))\n",
    "years=int(input(\"Enter the loan term in number of years:\"))\n",
    "simple_interest_amount=loan_amount*(1+(interest_rate/100)*years)\n",
    "compound_interest_amount=loan_amount*((1+interest_rate/100)**years)\n",
    "print(f\"Your repay amount is {simple_interest_amount} in {years} years of time with simple interest.\")\n",
    "print(f\"Your repay amount is {compound_interest_amount} in {years} years of time with with compound interest.\")"
   ]
  },
  {
   "cell_type": "markdown",
   "metadata": {},
   "source": [
    "### Part B\n",
    "Extend the above program to enable input validation on loan amount immediately after entering the amount. The minimum loan amount is 100,000, and the maximum is 1,000,000. Note you don’t have to validate other inputs.\n",
    "\n",
    "Below are three examples of how the program should run. \n",
    "\n",
    "#### Example 1\n",
    "```\n",
    "Enter the loan amount: 300000\n",
    "Enter the annual interest rate in percentage: 5\n",
    "Enter the loan term in number of years: 20\n",
    "Your repay amount is 600000.0 in 20.0 years of time with simple interest.\n",
    "Your repay amount is 798989.311543 in 20.0 years of time with compound interest.\n",
    "\n",
    "```\n",
    "#### Example 2\n",
    "```\n",
    "Enter the loan amount: 5000 \n",
    "The minimum loan amount is 100000. Bye!\n",
    "\n",
    "```\n",
    "#### Example 3\n",
    "```\n",
    "Enter the loan amount: 2000000 \n",
    "The maximum loan amount is 1000000. Bye!\n",
    "\n",
    "```"
   ]
  },
  {
   "cell_type": "code",
   "execution_count": 17,
   "metadata": {},
   "outputs": [
    {
     "name": "stdin",
     "output_type": "stream",
     "text": [
      "Enter the loan amount: 10000000\n"
     ]
    },
    {
     "name": "stdout",
     "output_type": "stream",
     "text": [
      "The maximum loan amount is 1000000. Bye!\n"
     ]
    }
   ],
   "source": [
    "loan_amount=int(input(\"Enter the loan amount:\"))\n",
    "if loan_amount <10000:\n",
    "    print(\"The minimum loan amount is 100000. Bye!\")\n",
    "elif loan_amount>1000000:\n",
    "    print(\"The maximum loan amount is 1000000. Bye!\")\n",
    "\n",
    "else:\n",
    "    interest_rate=int(input(\"Enter the annual interest rate in percentage:\"))\n",
    "    years=int(input(\"Enter the loan term in number of years:\"))\n",
    "    simple_interest_amount=loan_amount*(1+(interest_rate/100)*years)\n",
    "    compound_interest_amount=loan_amount*((1+interest_rate/100)**years)\n",
    "    print(f\"Your repay amount is {simple_interest_amount} in {years} years of time with simple interest.\")\n",
    "    print(f\"Your repay amount is {compound_interest_amount} in {years} years of time with with compound interest.\")"
   ]
  },
  {
   "cell_type": "markdown",
   "metadata": {},
   "source": [
    "### Part C\n",
    "\n",
    "Write a program to create a table showing the accumulation of interest each year for different interest schemes. Accumulated interest is the difference between repay amount and loan amount. Your program should calculate the interest value for each year over a 20 year period with the initial loan amount of 300,000 and interest rate of 5%. \n",
    "\n",
    "An example of the program is below:\n",
    "```\n",
    "Year  Simple Interest  Compound Interest\n",
    "1     15000.0          15000.0\n",
    "2     30000.0          30750.0\n",
    "3     45000.0          47287.5\n",
    "4     60000.0          64651.875\n",
    "5     75000.0          82884.46875\n",
    "6     90000.0          102028.692188\n",
    "7     105000.0         122130.126797\n",
    "8     120000.0         143236.633137\n",
    "9     135000.0         165398.464794\n",
    "10    150000.0         188668.388033\n",
    "11    165000.0         213101.807435\n",
    "12    180000.0         238756.897807\n",
    "13    195000.0         265694.742697\n",
    "14    210000.0         293979.479832\n",
    "15    225000.0         323678.453823\n",
    "16    240000.0         354862.376515\n",
    "17    255000.0         387605.49534\n",
    "18    270000.0         421985.770107\n",
    "19    285000.0         458085.058613\n",
    "20    300000.0         495989.311543\n",
    "```\n",
    "\n",
    "Do not worry too much about producing perfectly aligned output as shown above. However, you should ensure the output is at least legible.\n",
    "\n",
    "_Hint:_ use a for loop and a list to hold the values of 1, 2, ..., 20."
   ]
  },
  {
   "cell_type": "code",
   "execution_count": 45,
   "metadata": {},
   "outputs": [
    {
     "name": "stdout",
     "output_type": "stream",
     "text": [
      "Year \t Simple Interest \t Compound Interest\n",
      "1 \t315000.0 \t315000.0\n",
      "2 \t330000.0 \t330750.0\n",
      "3 \t345000.0 \t347287.50000000006\n",
      "4 \t360000.0 \t364651.87500000006\n",
      "5 \t375000.0 \t382884.4687500001\n",
      "6 \t390000.0 \t402028.6921875001\n",
      "7 \t405000.0 \t422130.12679687515\n",
      "8 \t420000.0 \t443236.6331367189\n",
      "9 \t435000.0 \t465398.46479355486\n",
      "10 \t450000.0 \t488668.3880332326\n",
      "11 \t465000.0 \t513101.80743489426\n",
      "12 \t480000.0 \t538756.897806639\n",
      "13 \t495000.0 \t565694.742696971\n",
      "14 \t510000.0 \t593979.4798318197\n",
      "15 \t525000.0 \t623678.4538234107\n",
      "16 \t540000.0 \t654862.376514581\n",
      "17 \t555000.0 \t687605.4953403103\n",
      "18 \t570000.0 \t721985.7701073257\n",
      "19 \t585000.0 \t758085.058612692\n",
      "20 \t600000.0 \t795989.3115433267\n"
     ]
    }
   ],
   "source": [
    "print(\"Year\",\"\\t\",\"Simple Interest\",\"\\t\",\"Compound Interest\")\n",
    "\n",
    "for years in range(1,21,1):\n",
    "    simple_interest_amount=300000*(1+(5/100)*years)\n",
    "    compound_interest_amount=300000*((1+5/100)**years)\n",
    "    print(f\"{years} \\t{simple_interest_amount:.1f} \\t{compound_interest_amount}\")"
   ]
  },
  {
   "cell_type": "markdown",
   "metadata": {},
   "source": [
    "### Part D\n",
    "Extend the above program so that it allows the user to enter the initial loan amount, interest rate, start year and end year for interest calculation from keyboard. "
   ]
  },
  {
   "cell_type": "code",
   "execution_count": 55,
   "metadata": {},
   "outputs": [
    {
     "name": "stdin",
     "output_type": "stream",
     "text": [
      "Enter the loan amount: 300000\n",
      "Enter the annual interest rate in percentage: 5\n",
      "Enter the start year: 1\n",
      "Enter the end year: 20\n"
     ]
    },
    {
     "name": "stdout",
     "output_type": "stream",
     "text": [
      "Year \t Simple Interest \t Compound Interest\n",
      "1 \t315000.0 \t315000.0\n",
      "2 \t330000.0 \t330750.0\n",
      "3 \t345000.0 \t347287.50000000006\n",
      "4 \t360000.0 \t364651.87500000006\n",
      "5 \t375000.0 \t382884.4687500001\n",
      "6 \t390000.0 \t402028.6921875001\n",
      "7 \t405000.0 \t422130.12679687515\n",
      "8 \t420000.0 \t443236.6331367189\n",
      "9 \t435000.0 \t465398.46479355486\n",
      "10 \t450000.0 \t488668.3880332326\n",
      "11 \t465000.0 \t513101.80743489426\n",
      "12 \t480000.0 \t538756.897806639\n",
      "13 \t495000.0 \t565694.742696971\n",
      "14 \t510000.0 \t593979.4798318197\n",
      "15 \t525000.0 \t623678.4538234107\n",
      "16 \t540000.0 \t654862.376514581\n",
      "17 \t555000.0 \t687605.4953403103\n",
      "18 \t570000.0 \t721985.7701073257\n",
      "19 \t585000.0 \t758085.058612692\n",
      "20 \t600000.0 \t795989.3115433267\n"
     ]
    }
   ],
   "source": [
    "loan_amount=int(input(\"Enter the loan amount:\"))\n",
    "interest_rate=int(input(\"Enter the annual interest rate in percentage:\"))\n",
    "start_year=int(input(\"Enter the start year:\"))\n",
    "end_year=int(input(\"Enter the end year:\"))\n",
    "print(\"Year\",\"\\t\",\"Simple Interest\",\"\\t\",\"Compound Interest\")\n",
    "for years in range(start_year,end_year+1,1):\n",
    "    simple_interest_amount=loan_amount*(1+(interest_rate/100)*years)\n",
    "    compound_interest_amount=loan_amount*((1+interest_rate/100)**years)\n",
    "    print(f\"{years} \\t{simple_interest_amount:.1f} \\t{compound_interest_amount}\")"
   ]
  },
  {
   "cell_type": "markdown",
   "metadata": {},
   "source": [
    "## Problem 3: Student Course Record\n",
    "### Part A\n",
    "\n",
    "Write a program to enter a student record from the keyboard. The record includes the student ID, student name, the program of study, campus of enrolment.\n",
    "\n",
    "Example program output:\n",
    "```\n",
    "Enter your student ID:  18007007 \n",
    "Enter your name: James Bond \n",
    "Enter your program of study: Master of ICT \n",
    "Enter your campus of enrolment: Parramatta \n",
    "Welcome to Western Sydney University, James Bond. You are studying Master of ICT in Parramatta.\n",
    "```\n",
    "\n",
    "Write your program in the cell below. "
   ]
  },
  {
   "cell_type": "code",
   "execution_count": 57,
   "metadata": {},
   "outputs": [
    {
     "name": "stdin",
     "output_type": "stream",
     "text": [
      "Enter your student ID: 2222\n",
      "Enter your name: dfr\n",
      "Enter your program of study: mk\n",
      "Enter your campus of enrolment: sd\n"
     ]
    },
    {
     "name": "stdout",
     "output_type": "stream",
     "text": [
      "Welcome to Western Sydney University, dfr. You are studying mk in sd.\n"
     ]
    }
   ],
   "source": [
    "studentid=input(\"Enter your student ID:\")\n",
    "name=input(\"Enter your name:\")\n",
    "program=input(\"Enter your program of study:\")\n",
    "campus=input(\"Enter your campus of enrolment:\")\n",
    "print(f\"Welcome to Western Sydney University, {name}. You are studying {program} in {campus}.\")"
   ]
  },
  {
   "cell_type": "markdown",
   "metadata": {},
   "source": [
    "### Part B\n",
    "\n",
    "Extend the program ***Part A*** to allow the users to enter student or staff information from the keyboard. The program first asks for ID and automatically determines whether this is a student or staff based on ID value. If the ID is less than 20000000, it’s a student and the program should proceed with asking for student information above. Otherwise it’s a staff member and the program should proceed with asking for staff information, including staff name, job title and school he/she works in. The program should also perform input validation so that it only accepts 8 character input for ID (there is no need to validate whether a number is entered or not)\n",
    "\n",
    "We list some examples of the expected output below:\n",
    "#### Example 1\n",
    "```\n",
    "Enter your student ID:  18007007 \n",
    "Enter your name: James Bond \n",
    "Enter your program of study: Master of ICT \n",
    "Enter your campus of enrolment: Parramatta \n",
    "Welcome to UWS, James Bond. You are studying Master of ICT in Parramatta.\n",
    "```\n",
    "#### Example 2\n",
    "```\n",
    "Enter your student/staff ID: 300 \n",
    "Invalid input. You must enter a 8-digit number.\n",
    "```\n",
    "#### Example 3\n",
    "```\n",
    "Enter your student/staff ID: 30088888 \n",
    "Enter your name: Andrew O'Brien \n",
    "Enter your job title: Lecturer \n",
    "Which school do you work for: SCEM\n",
    "Welcome back, Andrew O'Brien. You are a Lecturer from SCEM.\n",
    "```\n",
    "\n",
    "Write your program in the cell below. "
   ]
  },
  {
   "cell_type": "code",
   "execution_count": 65,
   "metadata": {},
   "outputs": [
    {
     "name": "stdin",
     "output_type": "stream",
     "text": [
      "Enter your student/staff: 12345678\n",
      "Enter your name: ww\n",
      "Enter your program of study: sddf\n",
      "Enter your campus of enrolment: sddd\n"
     ]
    },
    {
     "name": "stdout",
     "output_type": "stream",
     "text": [
      "Welcome to Western Sydney University, ww. You are studying sddf in sddd.\n"
     ]
    }
   ],
   "source": [
    "id=int(input(\"Enter your student/staff ID:\"))\n",
    "if len(str(id)) !=8:\n",
    "    print(\"Invalid input. You must enter a 8-digit number.\")\n",
    "elif id < 20000000:\n",
    "    name=input(\"Enter your name:\")\n",
    "    program=input(\"Enter your program of study:\")\n",
    "    campus=input(\"Enter your campus of enrolment:\")\n",
    "    print(f\"Welcome to Western Sydney University, {name}. You are studying {program} in {campus}.\")\n",
    "else :\n",
    "    name=input(\"Enter your name:\")\n",
    "    job=input(\"Enter your job title:\")\n",
    "    school=input(\"Which school do you work for:\")\n",
    "    print(f\"Welcome back, {name}. You are a {job} from {school}.\")"
   ]
  },
  {
   "cell_type": "markdown",
   "metadata": {},
   "source": [
    "### Part C\n",
    "\n",
    "Extend program ***Part B*** to allow users to enter student or staff information repeatedly from keyboard and stop when invalid student/staff ID is entered.\n",
    "\n",
    "An example of the expected output is below:\n",
    "```\n",
    "Enter your student/staff ID: 30088888\n",
    "Enter your name: Zhouyu Fu\n",
    "Enter your job title: Lecturer\n",
    "Which school do you work for: School of Big Data\n",
    "Welcome back, Zhouyu Fu. You are a Lecturer from School of Big Data.\n",
    "Enter your student ID:  18007007\n",
    "Enter your name: James Bond\n",
    "Enter your program of study: Master of ICT\n",
    "Enter your campus of enrolment: Parramatta\n",
    "Welcome to UWS, James Bond. You are studying Master of ICT in Parramatta.\n",
    "Enter your student/staff ID: 300\n",
    "See you later!\n",
    "```\n",
    "\n",
    "Write your program in the cell below. "
   ]
  },
  {
   "cell_type": "code",
   "execution_count": 83,
   "metadata": {},
   "outputs": [
    {
     "name": "stdin",
     "output_type": "stream",
     "text": [
      "Enter your student/staff ID: 00000001\n",
      "Enter your name: jj\n",
      "Enter your program of study: jjkj\n",
      "Enter your campus of enrolment: jjj\n"
     ]
    },
    {
     "name": "stdout",
     "output_type": "stream",
     "text": [
      "Welcome to Western Sydney University, jj. You are studying jjkj in jjj.\n"
     ]
    },
    {
     "name": "stdin",
     "output_type": "stream",
     "text": [
      "Enter your student/staff ID: 99\n"
     ]
    },
    {
     "name": "stdout",
     "output_type": "stream",
     "text": [
      "See you later!\n"
     ]
    }
   ],
   "source": [
    "while True:\n",
    "    id=input(\"Enter your student/staff ID:\")\n",
    "    if not id.isdigit() or len(id)!=8:\n",
    "        print(\"See you later!\")\n",
    "        break\n",
    "    int_id=int(id)\n",
    "    if int_id < 20000000:\n",
    "        name=input(\"Enter your name:\")\n",
    "        program=input(\"Enter your program of study:\")\n",
    "        campus=input(\"Enter your campus of enrolment:\")\n",
    "        print(f\"Welcome to Western Sydney University, {name}. You are studying {program} in {campus}.\")\n",
    "    else  :\n",
    "        name=input(\"Enter your name:\")\n",
    "        job=input(\"Enter your job title:\")\n",
    "        school=input(\"Which school do you work for:\")\n",
    "        print(f\"Welcome back, {name}. You are a {job} from {school}.\")\n"
   ]
  },
  {
   "cell_type": "markdown",
   "metadata": {},
   "source": [
    "## Problem 4: Largest Number\n",
    "### Part A\n",
    "\n",
    "Write a program to enter three numbers from the keyboard. Your program should display user messages for input and show the numbers after user entering the numbers.\n",
    "\n",
    "An example of the expected output is shown below:\n",
    "```\n",
    "Enter the first number: 12 \n",
    "Enter the second number: 18\n",
    "Enter the third number: -6 \n",
    "The three numbers you entered are 12 , 18 , -6 \n",
    "```\n",
    "\n",
    "Write your program in the cell below."
   ]
  },
  {
   "cell_type": "code",
   "execution_count": 95,
   "metadata": {},
   "outputs": [
    {
     "name": "stdin",
     "output_type": "stream",
     "text": [
      "Enter the first number: 1\n",
      "Enter the second number: 2\n",
      "Enter the third number: 3\n"
     ]
    },
    {
     "name": "stdout",
     "output_type": "stream",
     "text": [
      "The three numbers you entered are  1 , 2 , 3\n"
     ]
    }
   ],
   "source": [
    "first_number=input(\"Enter the first number:\")\n",
    "second_number=input(\"Enter the second number:\")\n",
    "third_number=input(\"Enter the third number:\")\n",
    "print(f\"The three numbers you entered are  {first_number} , {second_number} , {third_number}\")"
   ]
  },
  {
   "cell_type": "markdown",
   "metadata": {},
   "source": [
    "### Part B\n",
    "Modify program ***Part A*** to find out the maximum number that the user has entered. Instead of displaying all input numbers, the program should just display the largest number.\n",
    "\n",
    "An example of the expected out is shown below:\n",
    "```\n",
    "Enter the first number: 12 \n",
    "Enter the second number: 18\n",
    "Enter the third number: -6 \n",
    "The largest number you entered is 18 \n",
    "```\n",
    "\n",
    "Write your program in the cell below.\n",
    "\n",
    "_Hint:_ You could solve this problem by using `if` statements to determine the largest number, or use a built-in Python function to work it out for you. Refer to the Python 3 documentation on [Built-in Functions](https://docs.python.org/3/library/functions.html) and see if there is a function which will help solve your problem."
   ]
  },
  {
   "cell_type": "code",
   "execution_count": 109,
   "metadata": {},
   "outputs": [
    {
     "name": "stdin",
     "output_type": "stream",
     "text": [
      "Enter the first number: 1\n",
      "Enter the second number: 2\n",
      "Enter the third number: 3\n"
     ]
    },
    {
     "name": "stdout",
     "output_type": "stream",
     "text": [
      "The largest number you entered is 3\n"
     ]
    }
   ],
   "source": [
    "first_number=int(input(\"Enter the first number:\"))\n",
    "second_number=int(input(\"Enter the second number:\"))\n",
    "third_number=int(input(\"Enter the third number:\"))\n",
    "numbers=[first_number,second_number,third_number]\n",
    "for i in numbers:\n",
    "    if i > a:\n",
    "        a = i\n",
    "print(f\"The largest number you entered is {a}\")\n"
   ]
  },
  {
   "cell_type": "markdown",
   "metadata": {},
   "source": [
    "### Part C\n",
    "\n",
    "Extend the program ***Part B*** so that your new program will repeatedly ask the user to enter numbers and only stop if the user has entered 0. After that, your program should display the largest number that the user has entered in the loop.\n",
    "\n",
    "An example of the expected output is shown below:\n",
    "```\n",
    "Enter a number (0 to stop): 12 \n",
    "Enter a number (0 to stop): 18 \n",
    "Enter a number (0 to stop): -6 \n",
    "Enter a number (0 to stop): -21 \n",
    "Enter a number (0 to stop): 3 \n",
    "Enter a number (0 to stop): 0 \n",
    "The largest number you entered is 18 \n",
    "```\n",
    "\n",
    "Write your program in the cell below. "
   ]
  },
  {
   "cell_type": "code",
   "execution_count": 119,
   "metadata": {},
   "outputs": [
    {
     "name": "stdin",
     "output_type": "stream",
     "text": [
      "Enter a number (0 to stop): 0\n"
     ]
    },
    {
     "name": "stdout",
     "output_type": "stream",
     "text": [
      "The largest number you entered is 0\n"
     ]
    }
   ],
   "source": [
    "numbers=[]\n",
    "a=0\n",
    "while True:\n",
    "    number=int(input(\"Enter a number (0 to stop):\"))\n",
    "    if number !=0:\n",
    "        numbers.append(number)\n",
    "    else:\n",
    "        break\n",
    "for i in numbers:\n",
    "            if i > a:\n",
    "                a = i\n",
    "print(f\"The largest number you entered is {a}\")"
   ]
  },
  {
   "cell_type": "markdown",
   "metadata": {},
   "source": [
    "## Problem 5: Bonus Calculator\n",
    "### Part A\n",
    "\n",
    "In this exercise, you will write a program for calculating the bonus earned by a sales person. The bonus is equal to 7% of the sales amount. Your program should receive the sales amount value from user input and display the bonus value. \n",
    "\n",
    "An example of the expected output is shown below:\n",
    "```\n",
    "Enter the sales amount: 6250\n",
    "The bonus is 437.5 \n",
    "```\n",
    "\n",
    "Write your program in the cell below."
   ]
  },
  {
   "cell_type": "code",
   "execution_count": 125,
   "metadata": {},
   "outputs": [
    {
     "name": "stdin",
     "output_type": "stream",
     "text": [
      "Enter the sales amount: 6250\n"
     ]
    },
    {
     "name": "stdout",
     "output_type": "stream",
     "text": [
      "The bonus is 437.5\n"
     ]
    }
   ],
   "source": [
    "sales=int(input(\"Enter the sales amount:\"))\n",
    "bonus=sales*0.07\n",
    "print(f\"The bonus is {bonus:.1f}\")"
   ]
  },
  {
   "cell_type": "markdown",
   "metadata": {},
   "source": [
    "### Part B\n",
    "\n",
    "The company decides to introduce a progressive rule to award bonus, with different bonus rate for different levels of sales amount in the following. \n",
    "\n",
    "|Sales Amount \t|\t\tBonus Rate|\n",
    "|---------------|-----------------|\n",
    "|≤ 5000         |     \t     0 |\n",
    "|≤ 10000\t\t|5% for each dollar over 5000   |\n",
    "|≤ 20000\t\t|\\$250 + 10% for each dollar over 10000 |\n",
    "|> 20000 \t\t|\\$1250 + 20% for each dollar over 20000|\n",
    "\n",
    "Write a program to calculate the bonus for the given sales amount using the new rule above.\n",
    "\n",
    "Some examples of the expected output are shown below. \n",
    "#### Example 1\n",
    "```\n",
    "Enter the sales amount: 4000 \n",
    "Your bonus is 0.0\n",
    "\n",
    "```\n",
    "#### Example 2\n",
    "```\n",
    "Enter the sales amount: 8000\n",
    "Your bonus is 150.0\n",
    "```\n",
    "#### Example 3\n",
    "```\n",
    "Enter the sales amount: 12000\n",
    "Your bonus is 450.0\n",
    "```\n",
    "#### Example 4\n",
    "```\n",
    "Enter the sales amount: 24000 \n",
    "Your bonus is 2050.0\n",
    "```\n",
    "\n",
    "\n",
    "Write your program in the cell below. "
   ]
  },
  {
   "cell_type": "code",
   "execution_count": 5,
   "metadata": {},
   "outputs": [
    {
     "name": "stdin",
     "output_type": "stream",
     "text": [
      "Enter the sales amount: 2222222\n"
     ]
    },
    {
     "name": "stdout",
     "output_type": "stream",
     "text": [
      "Your bonus is 441694.4\n"
     ]
    }
   ],
   "source": [
    "sales=int(input(\"Enter the sales amount:\"))\n",
    "if sales <= 5000:\n",
    "    print(\"Your bonus is 0.0\")\n",
    "elif sales <=10000:\n",
    "    bonus_1=(sales-5000)*0.05\n",
    "    print(f\"Your bonus is {bonus_1:.1f}\")\n",
    "elif sales<=20000:\n",
    "    bonus_2=(sales-10000)*0.1+250\n",
    "    print(f\"Your bonus is {bonus_2:.1f}\")\n",
    "else:\n",
    "    bonus_3=(sales-20000)*0.2+1250\n",
    "    print(f\"Your bonus is {bonus_3:.1f}\")"
   ]
  },
  {
   "cell_type": "markdown",
   "metadata": {},
   "source": [
    "### Part C\n",
    "\n",
    "Extend program ***Part B*** to repeat the process of entering sales amount and calculating the bonus until a negative value is entered.  \n",
    "\n",
    "An example of the expected output is shown below. \n",
    "```\n",
    "Enter the sales amount: 4000 \n",
    "Your bonus is 0.0\n",
    "Enter the sales amount: 8000 \n",
    "Your bonus is 150.0\n",
    "Enter the sales amount: 12000 \n",
    "Your bonus is 450.0\n",
    "Enter the sales amount: 24000 \n",
    "Your bonus is 2050.0\n",
    "Enter the sales amount: -100 \n",
    "Bye!\n",
    "\n",
    "```"
   ]
  },
  {
   "cell_type": "code",
   "execution_count": null,
   "metadata": {},
   "outputs": [],
   "source": [
    "while True:\n",
    "    sales=int(input(\"Enter the sales amount:\"))\n",
    "    if sales < 0:\n",
    "        print(\"Bye!\")\n",
    "        break\n",
    "    if sales <= 5000:\n",
    "        print(\"Your bonus is 0.0\")\n",
    "    elif sales <=10000 :\n",
    "        bonus_1=(sales-5000)*0.05\n",
    "        print(f\"Your bonus is {bonus_1:.1f}\")\n",
    "    elif sales<=20000 :\n",
    "        bonus_2=(sales-10000)*0.1+250\n",
    "        print(f\"Your bonus is {bonus_2:.1f}\")\n",
    "    else :\n",
    "        bonus_3=(sales-20000)*0.2+1250\n",
    "        print(f\"Your bonus is {bonus_3:.1f}\")"
   ]
  },
  {
   "cell_type": "code",
   "execution_count": null,
   "metadata": {},
   "outputs": [],
   "source": []
  }
 ],
 "metadata": {
  "kernelspec": {
   "display_name": "Python [conda env:base] *",
   "language": "python",
   "name": "conda-base-py"
  },
  "language_info": {
   "codemirror_mode": {
    "name": "ipython",
    "version": 3
   },
   "file_extension": ".py",
   "mimetype": "text/x-python",
   "name": "python",
   "nbconvert_exporter": "python",
   "pygments_lexer": "ipython3",
   "version": "3.12.7"
  }
 },
 "nbformat": 4,
 "nbformat_minor": 4
}
